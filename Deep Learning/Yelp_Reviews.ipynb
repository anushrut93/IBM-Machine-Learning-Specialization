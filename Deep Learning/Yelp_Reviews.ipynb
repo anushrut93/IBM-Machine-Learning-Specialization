{
 "cells": [
  {
   "cell_type": "markdown",
   "id": "8d8d6d21",
   "metadata": {},
   "source": [
    "# Yelp Reviews Classification"
   ]
  },
  {
   "cell_type": "code",
   "execution_count": 1,
   "id": "8e436443",
   "metadata": {},
   "outputs": [],
   "source": [
    "import numpy as np\n",
    "import tensorflow_datasets as tfds\n",
    "import tensorflow as tf\n",
    "from tensorflow.keras.preprocessing import sequence\n",
    "import matplotlib.pyplot as plt\n",
    "%matplotlib inline"
   ]
  },
  {
   "cell_type": "code",
   "execution_count": 465,
   "id": "a7344217",
   "metadata": {},
   "outputs": [],
   "source": [
    "from tensorflow import keras\n",
    "#from tensorflow.keras.preprocessing import sequence\n",
    "#from tensorflow.keras.models import Sequential\n",
    "#from tensorflow.keras.layers import Dense, Embedding\n",
    "#from tensorflow.keras.layers import SimpleRNN\n",
    "#from tensorflow.keras.datasets import imdb\n",
    "#from tensorflow.keras import initializers\n",
    "#import keras\n",
    "from keras.preprocessing import sequence\n",
    "from keras.models import Sequential\n",
    "from keras.layers import Dense, Embedding\n",
    "from keras.layers import SimpleRNN\n",
    "from keras.layers import GRU, LSTM\n",
    "from keras.datasets import imdb\n",
    "from keras import initializers"
   ]
  },
  {
   "cell_type": "markdown",
   "id": "7ed24354",
   "metadata": {},
   "source": [
    "**Import the dataset from tensorflow.datasets**"
   ]
  },
  {
   "cell_type": "code",
   "execution_count": 466,
   "id": "eaa7105c",
   "metadata": {},
   "outputs": [],
   "source": [
    "(train_dataset, test_dataset), info = tfds.load('yelp_polarity_reviews', with_info = True, as_supervised = True, \n",
    "                          shuffle_files = True, split = ['train[90%:]', 'test'])"
   ]
  },
  {
   "cell_type": "markdown",
   "id": "efc12736",
   "metadata": {},
   "source": [
    "**Brief description of the dataset from the info contained therein.**"
   ]
  },
  {
   "cell_type": "code",
   "execution_count": 467,
   "id": "ed945ee9",
   "metadata": {},
   "outputs": [
    {
     "data": {
      "text/plain": [
       "tfds.core.DatasetInfo(\n",
       "    name='yelp_polarity_reviews',\n",
       "    full_name='yelp_polarity_reviews/0.2.0',\n",
       "    description=\"\"\"\n",
       "    Large Yelp Review Dataset.\n",
       "    This is a dataset for binary sentiment classification. We provide a set of 560,000 highly polar yelp reviews for training, and 38,000 for testing. \n",
       "    ORIGIN\n",
       "    The Yelp reviews dataset consists of reviews from Yelp. It is extracted\n",
       "    from the Yelp Dataset Challenge 2015 data. For more information, please\n",
       "    refer to http://www.yelp.com/dataset\n",
       "    \n",
       "    The Yelp reviews polarity dataset is constructed by\n",
       "    Xiang Zhang (xiang.zhang@nyu.edu) from the above dataset.\n",
       "    It is first used as a text classification benchmark in the following paper:\n",
       "    Xiang Zhang, Junbo Zhao, Yann LeCun. Character-level Convolutional Networks\n",
       "    for Text Classification. Advances in Neural Information Processing Systems 28\n",
       "    (NIPS 2015).\n",
       "    \n",
       "    \n",
       "    DESCRIPTION\n",
       "    \n",
       "    The Yelp reviews polarity dataset is constructed by considering stars 1 and 2\n",
       "    negative, and 3 and 4 positive. For each polarity 280,000 training samples and\n",
       "    19,000 testing samples are take randomly. In total there are 560,000 trainig\n",
       "    samples and 38,000 testing samples. Negative polarity is class 1,\n",
       "    and positive class 2.\n",
       "    \n",
       "    The files train.csv and test.csv contain all the training samples as\n",
       "    comma-sparated values. There are 2 columns in them, corresponding to class\n",
       "    index (1 and 2) and review text. The review texts are escaped using double\n",
       "    quotes (\"), and any internal double quote is escaped by 2 double quotes (\"\").\n",
       "    New lines are escaped by a backslash followed with an \"n\" character,\n",
       "    that is \"\n",
       "    \".\n",
       "    \"\"\",\n",
       "    homepage='https://course.fast.ai/datasets',\n",
       "    data_path='C:\\\\Users\\\\anush\\\\tensorflow_datasets\\\\yelp_polarity_reviews\\\\0.2.0',\n",
       "    download_size=158.67 MiB,\n",
       "    dataset_size=435.14 MiB,\n",
       "    features=FeaturesDict({\n",
       "        'label': ClassLabel(shape=(), dtype=tf.int64, num_classes=2),\n",
       "        'text': Text(shape=(), dtype=tf.string),\n",
       "    }),\n",
       "    supervised_keys=('text', 'label'),\n",
       "    disable_shuffling=False,\n",
       "    splits={\n",
       "        'test': <SplitInfo num_examples=38000, num_shards=1>,\n",
       "        'train': <SplitInfo num_examples=560000, num_shards=4>,\n",
       "    },\n",
       "    citation=\"\"\"@article{zhangCharacterlevelConvolutionalNetworks2015,\n",
       "      archivePrefix = {arXiv},\n",
       "      eprinttype = {arxiv},\n",
       "      eprint = {1509.01626},\n",
       "      primaryClass = {cs},\n",
       "      title = {Character-Level {{Convolutional Networks}} for {{Text Classification}}},\n",
       "      abstract = {This article offers an empirical exploration on the use of character-level convolutional networks (ConvNets) for text classification. We constructed several large-scale datasets to show that character-level convolutional networks could achieve state-of-the-art or competitive results. Comparisons are offered against traditional models such as bag of words, n-grams and their TFIDF variants, and deep learning models such as word-based ConvNets and recurrent neural networks.},\n",
       "      journal = {arXiv:1509.01626 [cs]},\n",
       "      author = {Zhang, Xiang and Zhao, Junbo and LeCun, Yann},\n",
       "      month = sep,\n",
       "      year = {2015},\n",
       "    }\"\"\",\n",
       ")"
      ]
     },
     "execution_count": 467,
     "metadata": {},
     "output_type": "execute_result"
    }
   ],
   "source": [
    "info"
   ]
  },
  {
   "cell_type": "markdown",
   "id": "14783614",
   "metadata": {},
   "source": [
    "**Looking at a sample of the dataset.**"
   ]
  },
  {
   "cell_type": "code",
   "execution_count": 468,
   "id": "3e8c3696",
   "metadata": {},
   "outputs": [
    {
     "name": "stdout",
     "output_type": "stream",
     "text": [
      "Review:  b'Worst place to stay in Vegas!!!!! Keys didn\\'t work and they accused us of loitering even after showing ID. The white girl at the desk would not acknowledge the fact that my id was the same as the I\\'d and credit card number that my room was reserved under. She only acknowledged the fact that our key card didn\\'t work \\\\\"\"well if ur key card doesn\\'t work then I guess it doesn\\'t belong here???\\\\\"\" even tho it did. I showed my ID and the credit card and they were both verified and this blonde bitch just kept saying \\\\\"\"well.... I guess it\\'s the wrong card??? Do u like... have the like.... like the right one????\\\\\"\" I mean cmon!!!!'\n",
      "Rating:  0\n"
     ]
    }
   ],
   "source": [
    "for example, label in train_dataset.take(1):\n",
    "    print('Review: ', example.numpy())\n",
    "    print('Rating: ', label.numpy())"
   ]
  },
  {
   "cell_type": "markdown",
   "id": "ccab168e",
   "metadata": {},
   "source": [
    "## Pre-Processing and Data Cleaning"
   ]
  },
  {
   "cell_type": "code",
   "execution_count": 469,
   "id": "7046c7a8",
   "metadata": {},
   "outputs": [],
   "source": [
    "list_ds_train = list(train_dataset)\n",
    "list_ds_test = list(test_dataset)"
   ]
  },
  {
   "cell_type": "code",
   "execution_count": 470,
   "id": "653fde1e",
   "metadata": {},
   "outputs": [],
   "source": [
    "array_ds_train = np.array(list_ds_train)\n",
    "array_ds_test = np.array(list_ds_test)"
   ]
  },
  {
   "cell_type": "markdown",
   "id": "d5c4b464",
   "metadata": {},
   "source": [
    "**Extracting the data into suitable data structures so that the necessary operations can be performed.**"
   ]
  },
  {
   "cell_type": "code",
   "execution_count": 471,
   "id": "e48d3e5b",
   "metadata": {},
   "outputs": [],
   "source": [
    "array_ds_train_x = array_ds_train[:,0]\n",
    "list_ds_train_y = array_ds_train[:,1]\n",
    "array_ds_test_x = array_ds_test[:,0]\n",
    "list_ds_test_y = array_ds_test[:,1]"
   ]
  },
  {
   "cell_type": "code",
   "execution_count": 472,
   "id": "b8e1eef7",
   "metadata": {},
   "outputs": [],
   "source": [
    "list_ds_train_x = list(array_ds_train_x)\n",
    "list_ds_test_x = list(array_ds_test_x)"
   ]
  },
  {
   "cell_type": "code",
   "execution_count": 473,
   "id": "c3f81bdd",
   "metadata": {},
   "outputs": [],
   "source": [
    "y_train = np.array(list_ds_train_y)\n",
    "y_test = np.array(list_ds_test_y)"
   ]
  },
  {
   "cell_type": "code",
   "execution_count": 474,
   "id": "102cd870",
   "metadata": {},
   "outputs": [
    {
     "data": {
      "text/plain": [
       "array([<tf.Tensor: shape=(), dtype=int64, numpy=0>,\n",
       "       <tf.Tensor: shape=(), dtype=int64, numpy=0>,\n",
       "       <tf.Tensor: shape=(), dtype=int64, numpy=0>, ...,\n",
       "       <tf.Tensor: shape=(), dtype=int64, numpy=1>,\n",
       "       <tf.Tensor: shape=(), dtype=int64, numpy=1>,\n",
       "       <tf.Tensor: shape=(), dtype=int64, numpy=1>], dtype=object)"
      ]
     },
     "execution_count": 474,
     "metadata": {},
     "output_type": "execute_result"
    }
   ],
   "source": [
    "y_test"
   ]
  },
  {
   "cell_type": "code",
   "execution_count": 475,
   "id": "127fbb76",
   "metadata": {},
   "outputs": [],
   "source": [
    "x_train = tf.data.Dataset.from_tensor_slices(list_ds_train_x)\n",
    "x_test = tf.data.Dataset.from_tensor_slices(list_ds_test_x)"
   ]
  },
  {
   "cell_type": "markdown",
   "id": "4c982e76",
   "metadata": {},
   "source": [
    "## Text Encoder"
   ]
  },
  {
   "cell_type": "code",
   "execution_count": 476,
   "id": "dd00a6da",
   "metadata": {},
   "outputs": [],
   "source": [
    "max_features = 10000\n",
    "encoder = tf.keras.layers.TextVectorization(max_tokens = max_features)"
   ]
  },
  {
   "cell_type": "code",
   "execution_count": 477,
   "id": "01b35c0f",
   "metadata": {},
   "outputs": [],
   "source": [
    "encoder.adapt(x_train)"
   ]
  },
  {
   "cell_type": "code",
   "execution_count": 478,
   "id": "8753b295",
   "metadata": {},
   "outputs": [],
   "source": [
    "x_train = encoder(list_ds_train_x)"
   ]
  },
  {
   "cell_type": "markdown",
   "id": "ef146915",
   "metadata": {},
   "source": [
    "**Let's look at the length of the reviews by removing the trailing zeros.**"
   ]
  },
  {
   "cell_type": "code",
   "execution_count": 479,
   "id": "ca9587e9",
   "metadata": {},
   "outputs": [],
   "source": [
    "length = []"
   ]
  },
  {
   "cell_type": "code",
   "execution_count": 483,
   "id": "fcce1218",
   "metadata": {},
   "outputs": [],
   "source": [
    "for i in np.array(x_train):\n",
    "    length.append(len(np.trim_zeros(i)) )"
   ]
  },
  {
   "cell_type": "code",
   "execution_count": 484,
   "id": "20f822a3",
   "metadata": {},
   "outputs": [],
   "source": [
    "length = np.array(length)"
   ]
  },
  {
   "cell_type": "code",
   "execution_count": 485,
   "id": "e6cd79de",
   "metadata": {},
   "outputs": [
    {
     "data": {
      "text/plain": [
       "DescribeResult(nobs=56000, minmax=(0, 991), mean=132.22073214285714, variance=15022.71891515888, skewness=2.321083557126957, kurtosis=7.823488955632982)"
      ]
     },
     "execution_count": 485,
     "metadata": {},
     "output_type": "execute_result"
    }
   ],
   "source": [
    "from scipy.stats import describe, skew\n",
    "describe(length)"
   ]
  },
  {
   "cell_type": "code",
   "execution_count": 273,
   "id": "f5990051",
   "metadata": {},
   "outputs": [
    {
     "data": {
      "text/plain": [
       "122.56426885516024"
      ]
     },
     "execution_count": 273,
     "metadata": {},
     "output_type": "execute_result"
    }
   ],
   "source": [
    "std = np.sqrt(15022)\n",
    "std"
   ]
  },
  {
   "cell_type": "code",
   "execution_count": 277,
   "id": "779109c3",
   "metadata": {},
   "outputs": [
    {
     "data": {
      "text/plain": [
       "2.321083557126957"
      ]
     },
     "execution_count": 277,
     "metadata": {},
     "output_type": "execute_result"
    }
   ],
   "source": [
    "skew(length)"
   ]
  },
  {
   "cell_type": "code",
   "execution_count": 313,
   "id": "5e52db4b",
   "metadata": {},
   "outputs": [
    {
     "data": {
      "image/png": "[encoded data removed]",
      "text/plain": [
       "<Figure size 432x288 with 1 Axes>"
      ]
     },
     "metadata": {},
     "output_type": "display_data"
    }
   ],
   "source": [
    "import seaborn as sns\n",
    "sns.set_style('white')\n",
    "sns.set_palette('dark')\n",
    "sns.set_context('talk')\n",
    "ax = plt.hist(length, bins = 20)\n",
    "plt.xlabel(\"Number of Words\")\n",
    "plt.ylabel(\"Number of Reviews\");\n",
    "#ax.set_xlabel('Number of Words')"
   ]
  },
  {
   "cell_type": "code",
   "execution_count": 318,
   "id": "9a42ac76",
   "metadata": {},
   "outputs": [
    {
     "data": {
      "image/png": "[encoded data removed]",
      "text/plain": [
       "<Figure size 432x288 with 1 Axes>"
      ]
     },
     "metadata": {},
     "output_type": "display_data"
    }
   ],
   "source": [
    "log_length = np.log1p(length);\n",
    "plt.hist(log_length, bins = 20);\n",
    "plt.xlabel(\"Number of Words (in Log)\")\n",
    "plt.ylabel(\"Number of Reviews\");"
   ]
  },
  {
   "cell_type": "code",
   "execution_count": 319,
   "id": "636fefad",
   "metadata": {},
   "outputs": [
    {
     "data": {
      "text/plain": [
       "DescribeResult(nobs=56000, minmax=(0.0, 6.899723107284872), mean=4.518839544162696, variance=0.8308347652554383, skewness=-0.391605571192689, kurtosis=0.3096271201054779)"
      ]
     },
     "execution_count": 319,
     "metadata": {},
     "output_type": "execute_result"
    }
   ],
   "source": [
    "describe(log_length)"
   ]
  },
  {
   "cell_type": "markdown",
   "id": "50e89ef6",
   "metadata": {},
   "source": [
    "**Taking the first 300 words for our models.**"
   ]
  },
  {
   "cell_type": "code",
   "execution_count": 456,
   "id": "cb707e4b",
   "metadata": {},
   "outputs": [],
   "source": [
    "x_train_pad = np.array(x_train)[:,:300]"
   ]
  },
  {
   "cell_type": "code",
   "execution_count": 457,
   "id": "93eb9627",
   "metadata": {},
   "outputs": [],
   "source": [
    "x_test = encoder(list_ds_test_x)"
   ]
  },
  {
   "cell_type": "code",
   "execution_count": 458,
   "id": "fefd8dce",
   "metadata": {},
   "outputs": [],
   "source": [
    "x_test_pad = np.array(x_test)[:,:300]"
   ]
  },
  {
   "cell_type": "code",
   "execution_count": 459,
   "id": "4caf3798",
   "metadata": {},
   "outputs": [],
   "source": [
    "vocabulary = encoder.get_vocabulary()\n",
    "vocabulary = np.array(vocabulary)"
   ]
  },
  {
   "cell_type": "code",
   "execution_count": 460,
   "id": "f2637c94",
   "metadata": {},
   "outputs": [
    {
     "data": {
      "text/plain": [
       "array(['', '[UNK]', 'the', ..., 'thicker', 'suits', 'struck'],\n",
       "      dtype='<U15')"
      ]
     },
     "execution_count": 460,
     "metadata": {},
     "output_type": "execute_result"
    }
   ],
   "source": [
    "vocabulary"
   ]
  },
  {
   "cell_type": "code",
   "execution_count": 461,
   "id": "cc28e26b",
   "metadata": {},
   "outputs": [],
   "source": [
    "x_train = x_train.numpy()"
   ]
  },
  {
   "cell_type": "code",
   "execution_count": 462,
   "id": "3d690ca4",
   "metadata": {},
   "outputs": [],
   "source": [
    "x_test = x_test.numpy()"
   ]
  },
  {
   "cell_type": "markdown",
   "id": "c3529a54",
   "metadata": {},
   "source": [
    "## RNN Model"
   ]
  },
  {
   "cell_type": "code",
   "execution_count": 327,
   "id": "e95479b2",
   "metadata": {},
   "outputs": [],
   "source": [
    "## Let's build a RNN\n",
    "\n",
    "rnn_hidden_dim = 5\n",
    "word_embedding_dim = 64\n",
    "model_rnn = Sequential()\n",
    "model_rnn.add(Embedding(max_features, word_embedding_dim))  #This layer takes each integer in the sequence and embeds it in a 64-dimensional vector\n",
    "model_rnn.add(SimpleRNN(rnn_hidden_dim,\n",
    "                    kernel_initializer=initializers.RandomNormal(stddev=0.001),\n",
    "                    recurrent_initializer=initializers.Identity(gain=1.0),\n",
    "                    activation='relu',\n",
    "                    input_shape=x_train.shape[1:]))\n",
    "\n",
    "model_rnn.add(Dense(1, activation='sigmoid'))"
   ]
  },
  {
   "cell_type": "code",
   "execution_count": 328,
   "id": "371bd718",
   "metadata": {},
   "outputs": [
    {
     "name": "stdout",
     "output_type": "stream",
     "text": [
      "Model: \"sequential_5\"\n",
      "_________________________________________________________________\n",
      " Layer (type)                Output Shape              Param #   \n",
      "=================================================================\n",
      " embedding_5 (Embedding)     (None, None, 64)          640000    \n",
      "                                                                 \n",
      " simple_rnn_3 (SimpleRNN)    (None, 5)                 350       \n",
      "                                                                 \n",
      " dense_5 (Dense)             (None, 1)                 6         \n",
      "                                                                 \n",
      "=================================================================\n",
      "Total params: 640,356\n",
      "Trainable params: 640,356\n",
      "Non-trainable params: 0\n",
      "_________________________________________________________________\n"
     ]
    }
   ],
   "source": [
    "## Note that most of the parameters come from the embedding layer\n",
    "model_rnn.summary()"
   ]
  },
  {
   "cell_type": "code",
   "execution_count": 329,
   "id": "8c07e089",
   "metadata": {},
   "outputs": [
    {
     "name": "stderr",
     "output_type": "stream",
     "text": [
      "C:\\Users\\anush\\anaconda3\\lib\\site-packages\\keras\\optimizer_v2\\rmsprop.py:130: UserWarning: The `lr` argument is deprecated, use `learning_rate` instead.\n",
      "  super(RMSprop, self).__init__(name, **kwargs)\n"
     ]
    }
   ],
   "source": [
    "rmsprop = keras.optimizers.RMSprop(lr = .0001)\n",
    "\n",
    "model_rnn.compile(loss='binary_crossentropy',\n",
    "              optimizer=rmsprop,\n",
    "              metrics=['accuracy'])"
   ]
  },
  {
   "cell_type": "code",
   "execution_count": 333,
   "id": "c62a658f",
   "metadata": {},
   "outputs": [],
   "source": [
    "x_train_pad = np.asarray(x_train_pad).astype('float32')"
   ]
  },
  {
   "cell_type": "code",
   "execution_count": 334,
   "id": "5d70cf61",
   "metadata": {},
   "outputs": [],
   "source": [
    "x_test_pad = np.asarray(x_test_pad).astype('float32')"
   ]
  },
  {
   "cell_type": "code",
   "execution_count": 337,
   "id": "b46ec7dd",
   "metadata": {},
   "outputs": [],
   "source": [
    "y_train = np.asarray(y_train).astype('float32')"
   ]
  },
  {
   "cell_type": "code",
   "execution_count": 338,
   "id": "a69ce7ba",
   "metadata": {},
   "outputs": [],
   "source": [
    "y_test = np.asarray(y_test).astype('float32')"
   ]
  },
  {
   "cell_type": "code",
   "execution_count": 339,
   "id": "fd0e4a96",
   "metadata": {},
   "outputs": [
    {
     "name": "stdout",
     "output_type": "stream",
     "text": [
      "Epoch 1/7\n",
      "560/560 [==============================] - 29s 51ms/step - loss: 0.4788 - accuracy: 0.7503 - val_loss: 0.2909 - val_accuracy: 0.8789\n",
      "Epoch 2/7\n",
      "560/560 [==============================] - 32s 56ms/step - loss: 0.2802 - accuracy: 0.8841 - val_loss: 0.2649 - val_accuracy: 0.8919\n",
      "Epoch 3/7\n",
      "560/560 [==============================] - 34s 60ms/step - loss: 0.2341 - accuracy: 0.9058 - val_loss: 0.2301 - val_accuracy: 0.9102\n",
      "Epoch 4/7\n",
      "560/560 [==============================] - 34s 60ms/step - loss: 0.2109 - accuracy: 0.9179 - val_loss: 0.2782 - val_accuracy: 0.8878\n",
      "Epoch 5/7\n",
      "560/560 [==============================] - 35s 62ms/step - loss: 0.1969 - accuracy: 0.9226 - val_loss: 0.2183 - val_accuracy: 0.9131\n",
      "Epoch 6/7\n",
      "560/560 [==============================] - 33s 58ms/step - loss: 0.1864 - accuracy: 0.9278 - val_loss: 0.2410 - val_accuracy: 0.9040\n",
      "Epoch 7/7\n",
      "560/560 [==============================] - 34s 60ms/step - loss: 0.1801 - accuracy: 0.9310 - val_loss: 0.2084 - val_accuracy: 0.9178\n"
     ]
    },
    {
     "data": {
      "text/plain": [
       "<keras.callbacks.History at 0x19bce00a2e0>"
      ]
     },
     "execution_count": 339,
     "metadata": {},
     "output_type": "execute_result"
    }
   ],
   "source": [
    "batch_size = 100\n",
    "model_rnn.fit(x_train_pad, y_train,\n",
    "          batch_size=batch_size,\n",
    "          epochs=7,\n",
    "          validation_data=(x_test_pad, y_test))"
   ]
  },
  {
   "cell_type": "code",
   "execution_count": 340,
   "id": "52e297cc",
   "metadata": {},
   "outputs": [
    {
     "name": "stdout",
     "output_type": "stream",
     "text": [
      "380/380 [==============================] - 14s 37ms/step - loss: 50.4615 - accuracy: 0.8407\n",
      "Test score: 50.4615478515625\n",
      "Test accuracy: 0.8406842350959778\n"
     ]
    }
   ],
   "source": [
    "score, acc = model_rnn.evaluate(x_test, y_test,\n",
    "                            batch_size=batch_size)\n",
    "print('Test score:', score)\n",
    "print('Test accuracy:', acc)"
   ]
  },
  {
   "cell_type": "markdown",
   "id": "83dd4f1c",
   "metadata": {},
   "source": [
    "## RNN 2"
   ]
  },
  {
   "cell_type": "code",
   "execution_count": 344,
   "id": "17c3b7ec",
   "metadata": {},
   "outputs": [],
   "source": [
    "## Let's build a RNN\n",
    "\n",
    "rnn_hidden_dim = 10\n",
    "word_embedding_dim = 128\n",
    "model_rnn = Sequential()\n",
    "model_rnn.add(Embedding(max_features, word_embedding_dim))  #This layer takes each integer in the sequence and embeds it in a 128-dimensional vector\n",
    "model_rnn.add(SimpleRNN(rnn_hidden_dim,\n",
    "                    kernel_initializer=initializers.RandomNormal(stddev=0.001),\n",
    "                    recurrent_initializer=initializers.Identity(gain=1.0),\n",
    "                    activation='relu',\n",
    "                    input_shape=x_train.shape[1:]))\n",
    "\n",
    "model_rnn.add(Dense(1, activation='sigmoid'))"
   ]
  },
  {
   "cell_type": "code",
   "execution_count": 345,
   "id": "1c374d73",
   "metadata": {},
   "outputs": [
    {
     "name": "stdout",
     "output_type": "stream",
     "text": [
      "Model: \"sequential_7\"\n",
      "_________________________________________________________________\n",
      " Layer (type)                Output Shape              Param #   \n",
      "=================================================================\n",
      " embedding_7 (Embedding)     (None, None, 128)         1280000   \n",
      "                                                                 \n",
      " simple_rnn_5 (SimpleRNN)    (None, 10)                1390      \n",
      "                                                                 \n",
      " dense_7 (Dense)             (None, 1)                 11        \n",
      "                                                                 \n",
      "=================================================================\n",
      "Total params: 1,281,401\n",
      "Trainable params: 1,281,401\n",
      "Non-trainable params: 0\n",
      "_________________________________________________________________\n"
     ]
    }
   ],
   "source": [
    "## Note that most of the parameters come from the embedding layer\n",
    "model_rnn.summary()"
   ]
  },
  {
   "cell_type": "code",
   "execution_count": 346,
   "id": "2ceb6edb",
   "metadata": {},
   "outputs": [],
   "source": [
    "rmsprop = keras.optimizers.RMSprop(lr = .0001)\n",
    "\n",
    "model_rnn.compile(loss='binary_crossentropy',\n",
    "              optimizer=rmsprop,\n",
    "              metrics=['accuracy'])"
   ]
  },
  {
   "cell_type": "code",
   "execution_count": 333,
   "id": "92c5acb7",
   "metadata": {},
   "outputs": [],
   "source": [
    "x_train_pad = np.asarray(x_train_pad).astype('float32')"
   ]
  },
  {
   "cell_type": "code",
   "execution_count": 334,
   "id": "3e008eb8",
   "metadata": {},
   "outputs": [],
   "source": [
    "x_test_pad = np.asarray(x_test_pad).astype('float32')"
   ]
  },
  {
   "cell_type": "code",
   "execution_count": 337,
   "id": "18dc76ee",
   "metadata": {},
   "outputs": [],
   "source": [
    "y_train = np.asarray(y_train).astype('float32')"
   ]
  },
  {
   "cell_type": "code",
   "execution_count": 338,
   "id": "b4902425",
   "metadata": {},
   "outputs": [],
   "source": [
    "y_test = np.asarray(y_test).astype('float32')"
   ]
  },
  {
   "cell_type": "code",
   "execution_count": 347,
   "id": "10e57b4a",
   "metadata": {},
   "outputs": [
    {
     "name": "stdout",
     "output_type": "stream",
     "text": [
      "Epoch 1/7\n",
      "560/560 [==============================] - 42s 75ms/step - loss: 0.4570 - accuracy: 0.7755 - val_loss: 0.2623 - val_accuracy: 0.8938\n",
      "Epoch 2/7\n",
      "560/560 [==============================] - 41s 73ms/step - loss: 0.2604 - accuracy: 0.8947 - val_loss: 0.2598 - val_accuracy: 0.8947\n",
      "Epoch 3/7\n",
      "560/560 [==============================] - 42s 75ms/step - loss: 0.2196 - accuracy: 0.9129 - val_loss: 0.2239 - val_accuracy: 0.9162\n",
      "Epoch 4/7\n",
      "560/560 [==============================] - 48s 86ms/step - loss: 0.1999 - accuracy: 0.9233 - val_loss: 0.2101 - val_accuracy: 0.9188\n",
      "Epoch 5/7\n",
      "560/560 [==============================] - 43s 77ms/step - loss: 0.1860 - accuracy: 0.9289 - val_loss: 0.2026 - val_accuracy: 0.9201\n",
      "Epoch 6/7\n",
      "560/560 [==============================] - 43s 77ms/step - loss: 0.1763 - accuracy: 0.9322 - val_loss: 0.2204 - val_accuracy: 0.9155\n",
      "Epoch 7/7\n",
      "560/560 [==============================] - 43s 77ms/step - loss: 0.1696 - accuracy: 0.9347 - val_loss: 0.2170 - val_accuracy: 0.9179\n"
     ]
    },
    {
     "data": {
      "text/plain": [
       "<keras.callbacks.History at 0x19bce261fd0>"
      ]
     },
     "execution_count": 347,
     "metadata": {},
     "output_type": "execute_result"
    }
   ],
   "source": [
    "batch_size = 100\n",
    "model_rnn.fit(x_train_pad, y_train,\n",
    "          batch_size=batch_size,\n",
    "          epochs=7,\n",
    "          validation_data=(x_test_pad, y_test))"
   ]
  },
  {
   "cell_type": "markdown",
   "id": "6c4c0dca",
   "metadata": {},
   "source": [
    "## GRU"
   ]
  },
  {
   "cell_type": "code",
   "execution_count": 350,
   "id": "819fa873",
   "metadata": {},
   "outputs": [],
   "source": [
    "## Let's build a RNN\n",
    "\n",
    "rnn_hidden_dim = 5\n",
    "word_embedding_dim = 64\n",
    "model_rnn = Sequential()\n",
    "model_rnn.add(Embedding(max_features, word_embedding_dim))  #This layer takes each integer in the sequence and embeds it in a 64-dimensional vector\n",
    "model_rnn.add(GRU(rnn_hidden_dim,\n",
    "                    kernel_initializer=initializers.RandomNormal(stddev=0.001),\n",
    "                    recurrent_initializer=initializers.Identity(gain=1.0),\n",
    "                    activation='relu',\n",
    "                    input_shape=x_train.shape[1:]))\n",
    "\n",
    "model_rnn.add(Dense(1, activation='sigmoid'))"
   ]
  },
  {
   "cell_type": "code",
   "execution_count": 351,
   "id": "7d605469",
   "metadata": {},
   "outputs": [
    {
     "name": "stdout",
     "output_type": "stream",
     "text": [
      "Model: \"sequential_9\"\n",
      "_________________________________________________________________\n",
      " Layer (type)                Output Shape              Param #   \n",
      "=================================================================\n",
      " embedding_9 (Embedding)     (None, None, 64)          640000    \n",
      "                                                                 \n",
      " gru_3 (GRU)                 (None, 5)                 1065      \n",
      "                                                                 \n",
      " dense_9 (Dense)             (None, 1)                 6         \n",
      "                                                                 \n",
      "=================================================================\n",
      "Total params: 641,071\n",
      "Trainable params: 641,071\n",
      "Non-trainable params: 0\n",
      "_________________________________________________________________\n"
     ]
    }
   ],
   "source": [
    "## Note that most of the parameters come from the embedding layer\n",
    "model_rnn.summary()"
   ]
  },
  {
   "cell_type": "code",
   "execution_count": 352,
   "id": "ae9fe372",
   "metadata": {},
   "outputs": [],
   "source": [
    "rmsprop = keras.optimizers.RMSprop(lr = .0001)\n",
    "\n",
    "model_rnn.compile(loss='binary_crossentropy',\n",
    "              optimizer=rmsprop,\n",
    "              metrics=['accuracy'])"
   ]
  },
  {
   "cell_type": "code",
   "execution_count": 353,
   "id": "4030eaa2",
   "metadata": {
    "scrolled": true
   },
   "outputs": [
    {
     "name": "stdout",
     "output_type": "stream",
     "text": [
      "Epoch 1/7\n",
      "560/560 [==============================] - 37s 64ms/step - loss: 0.6927 - accuracy: 0.5264 - val_loss: 0.6922 - val_accuracy: 0.5280\n",
      "Epoch 2/7\n",
      "560/560 [==============================] - 39s 70ms/step - loss: 0.6917 - accuracy: 0.5291 - val_loss: 0.6910 - val_accuracy: 0.5280\n",
      "Epoch 3/7\n",
      "560/560 [==============================] - 41s 73ms/step - loss: 0.6901 - accuracy: 0.5292 - val_loss: 0.6893 - val_accuracy: 0.5284\n",
      "Epoch 4/7\n",
      "560/560 [==============================] - 42s 75ms/step - loss: 0.6885 - accuracy: 0.5293 - val_loss: 0.6881 - val_accuracy: 0.5286\n",
      "Epoch 5/7\n",
      "560/560 [==============================] - 43s 77ms/step - loss: 0.6876 - accuracy: 0.5294 - val_loss: 0.6874 - val_accuracy: 0.5288\n",
      "Epoch 6/7\n",
      "560/560 [==============================] - 45s 80ms/step - loss: 0.6870 - accuracy: 0.5294 - val_loss: 0.6871 - val_accuracy: 0.5289\n",
      "Epoch 7/7\n",
      "560/560 [==============================] - 46s 82ms/step - loss: 0.6865 - accuracy: 0.5294 - val_loss: 0.6868 - val_accuracy: 0.5290\n"
     ]
    },
    {
     "data": {
      "text/plain": [
       "<keras.callbacks.History at 0x19bce89ed90>"
      ]
     },
     "execution_count": 353,
     "metadata": {},
     "output_type": "execute_result"
    }
   ],
   "source": [
    "batch_size = 100\n",
    "model_rnn.fit(x_train_pad, y_train,\n",
    "          batch_size=batch_size,\n",
    "          epochs=7,\n",
    "          validation_data=(x_test_pad, y_test))"
   ]
  },
  {
   "cell_type": "markdown",
   "id": "78f4eab3",
   "metadata": {},
   "source": [
    "## GRU2"
   ]
  },
  {
   "cell_type": "code",
   "execution_count": 354,
   "id": "2402f373",
   "metadata": {},
   "outputs": [],
   "source": [
    "## Let's build a RNN\n",
    "\n",
    "rnn_hidden_dim = 10\n",
    "word_embedding_dim = 128\n",
    "model_rnn = Sequential()\n",
    "model_rnn.add(Embedding(max_features, word_embedding_dim))  #This layer takes each integer in the sequence and embeds it in a 128-dimensional vector\n",
    "model_rnn.add(GRU(rnn_hidden_dim,\n",
    "                    kernel_initializer=initializers.RandomNormal(stddev=0.001),\n",
    "                    recurrent_initializer=initializers.Identity(gain=1.0),\n",
    "                    activation='relu',\n",
    "                    input_shape=x_train.shape[1:]))\n",
    "\n",
    "model_rnn.add(Dense(1, activation='sigmoid'))"
   ]
  },
  {
   "cell_type": "code",
   "execution_count": 355,
   "id": "929c048d",
   "metadata": {},
   "outputs": [
    {
     "name": "stdout",
     "output_type": "stream",
     "text": [
      "Model: \"sequential_10\"\n",
      "_________________________________________________________________\n",
      " Layer (type)                Output Shape              Param #   \n",
      "=================================================================\n",
      " embedding_10 (Embedding)    (None, None, 128)         1280000   \n",
      "                                                                 \n",
      " gru_4 (GRU)                 (None, 10)                4200      \n",
      "                                                                 \n",
      " dense_10 (Dense)            (None, 1)                 11        \n",
      "                                                                 \n",
      "=================================================================\n",
      "Total params: 1,284,211\n",
      "Trainable params: 1,284,211\n",
      "Non-trainable params: 0\n",
      "_________________________________________________________________\n"
     ]
    }
   ],
   "source": [
    "## Note that most of the parameters come from the embedding layer\n",
    "model_rnn.summary()"
   ]
  },
  {
   "cell_type": "code",
   "execution_count": 356,
   "id": "6a172c74",
   "metadata": {},
   "outputs": [],
   "source": [
    "rmsprop = keras.optimizers.RMSprop(lr = .0001)\n",
    "\n",
    "model_rnn.compile(loss='binary_crossentropy',\n",
    "              optimizer=rmsprop,\n",
    "              metrics=['accuracy'])"
   ]
  },
  {
   "cell_type": "code",
   "execution_count": 357,
   "id": "63e52e4c",
   "metadata": {},
   "outputs": [
    {
     "name": "stdout",
     "output_type": "stream",
     "text": [
      "Epoch 1/7\n",
      "560/560 [==============================] - 53s 94ms/step - loss: 0.6926 - accuracy: 0.5144 - val_loss: 0.6919 - val_accuracy: 0.5294\n",
      "Epoch 2/7\n",
      "560/560 [==============================] - 56s 100ms/step - loss: 0.6908 - accuracy: 0.5298 - val_loss: 0.6896 - val_accuracy: 0.5292\n",
      "Epoch 3/7\n",
      "560/560 [==============================] - 61s 110ms/step - loss: 0.6886 - accuracy: 0.5301 - val_loss: 0.6879 - val_accuracy: 0.5293\n",
      "Epoch 4/7\n",
      "560/560 [==============================] - 65s 116ms/step - loss: 0.6875 - accuracy: 0.5303 - val_loss: 0.6873 - val_accuracy: 0.5294\n",
      "Epoch 5/7\n",
      "560/560 [==============================] - 58s 104ms/step - loss: 0.6867 - accuracy: 0.5301 - val_loss: 0.6868 - val_accuracy: 0.5294\n",
      "Epoch 6/7\n",
      "560/560 [==============================] - 60s 106ms/step - loss: 0.6860 - accuracy: 0.5303 - val_loss: 0.6863 - val_accuracy: 0.5295\n",
      "Epoch 7/7\n",
      "560/560 [==============================] - 60s 107ms/step - loss: 0.6852 - accuracy: 0.5302 - val_loss: 0.6859 - val_accuracy: 0.5296\n"
     ]
    },
    {
     "data": {
      "text/plain": [
       "<keras.callbacks.History at 0x19c9aa50f70>"
      ]
     },
     "execution_count": 357,
     "metadata": {},
     "output_type": "execute_result"
    }
   ],
   "source": [
    "batch_size = 100\n",
    "model_rnn.fit(x_train_pad, y_train,\n",
    "          batch_size=batch_size,\n",
    "          epochs=7,\n",
    "          validation_data=(x_test_pad, y_test))"
   ]
  },
  {
   "cell_type": "markdown",
   "id": "bad8b903",
   "metadata": {},
   "source": [
    "## LSTM"
   ]
  },
  {
   "cell_type": "code",
   "execution_count": 360,
   "id": "47ee4cdd",
   "metadata": {},
   "outputs": [],
   "source": [
    "## Let's build a RNN\n",
    "\n",
    "\n",
    "rnn_hidden_dim = 5\n",
    "word_embedding_dim = 64\n",
    "model_rnn = Sequential()\n",
    "model_rnn.add(Embedding(max_features, word_embedding_dim))  #This layer takes each integer in the sequence and embeds it in a 64-dimensional vector\n",
    "model_rnn.add(LSTM(rnn_hidden_dim,\n",
    "                    kernel_initializer=initializers.RandomNormal(stddev=0.001),\n",
    "                    recurrent_initializer=initializers.Identity(gain=1.0),\n",
    "                    activation='relu',\n",
    "                    input_shape=x_train.shape[1:]))\n",
    "\n",
    "model_rnn.add(Dense(1, activation='sigmoid'))"
   ]
  },
  {
   "cell_type": "code",
   "execution_count": 361,
   "id": "49e1ad78",
   "metadata": {},
   "outputs": [
    {
     "name": "stdout",
     "output_type": "stream",
     "text": [
      "Model: \"sequential_12\"\n",
      "_________________________________________________________________\n",
      " Layer (type)                Output Shape              Param #   \n",
      "=================================================================\n",
      " embedding_12 (Embedding)    (None, None, 64)          640000    \n",
      "                                                                 \n",
      " lstm (LSTM)                 (None, 5)                 1400      \n",
      "                                                                 \n",
      " dense_11 (Dense)            (None, 1)                 6         \n",
      "                                                                 \n",
      "=================================================================\n",
      "Total params: 641,406\n",
      "Trainable params: 641,406\n",
      "Non-trainable params: 0\n",
      "_________________________________________________________________\n"
     ]
    }
   ],
   "source": [
    "## Note that most of the parameters come from the embedding layer\n",
    "model_rnn.summary()"
   ]
  },
  {
   "cell_type": "code",
   "execution_count": 362,
   "id": "9b99d9c3",
   "metadata": {},
   "outputs": [],
   "source": [
    "rmsprop = keras.optimizers.RMSprop(lr = .0001)\n",
    "\n",
    "model_rnn.compile(loss='binary_crossentropy',\n",
    "              optimizer=rmsprop,\n",
    "              metrics=['accuracy'])"
   ]
  },
  {
   "cell_type": "code",
   "execution_count": 365,
   "id": "81ad7bd7",
   "metadata": {},
   "outputs": [
    {
     "name": "stdout",
     "output_type": "stream",
     "text": [
      "Epoch 1/7\n",
      "560/560 [==============================] - 42s 74ms/step - loss: 317936192.0000 - accuracy: 0.5313 - val_loss: 46329012224.0000 - val_accuracy: 0.5328\n",
      "Epoch 2/7\n",
      "560/560 [==============================] - 42s 75ms/step - loss: 15802331136.0000 - accuracy: 0.5329 - val_loss: 16284268.0000 - val_accuracy: 0.5331\n",
      "Epoch 3/7\n",
      "560/560 [==============================] - 43s 76ms/step - loss: 154843296.0000 - accuracy: 0.5342 - val_loss: 3079774.7500 - val_accuracy: 0.5331\n",
      "Epoch 4/7\n",
      "560/560 [==============================] - 42s 75ms/step - loss: 16837.3145 - accuracy: 0.5354 - val_loss: 2845847.7500 - val_accuracy: 0.5348\n",
      "Epoch 5/7\n",
      "560/560 [==============================] - 45s 81ms/step - loss: 160534592.0000 - accuracy: 0.5393 - val_loss: 3365095424.0000 - val_accuracy: 0.5403\n",
      "Epoch 6/7\n",
      "560/560 [==============================] - 47s 83ms/step - loss: 191507152.0000 - accuracy: 0.5394 - val_loss: 987396416.0000 - val_accuracy: 0.5424\n",
      "Epoch 7/7\n",
      "560/560 [==============================] - 46s 82ms/step - loss: 4958822400.0000 - accuracy: 0.5425 - val_loss: 347620480.0000 - val_accuracy: 0.5430\n"
     ]
    },
    {
     "data": {
      "text/plain": [
       "<keras.callbacks.History at 0x19ca4e95fa0>"
      ]
     },
     "execution_count": 365,
     "metadata": {},
     "output_type": "execute_result"
    }
   ],
   "source": [
    "batch_size = 100\n",
    "model_rnn.fit(x_train_pad, y_train,\n",
    "          batch_size=batch_size,\n",
    "          epochs=7,\n",
    "          validation_data=(x_test_pad, y_test))"
   ]
  },
  {
   "cell_type": "markdown",
   "id": "cd2c7c2e",
   "metadata": {},
   "source": [
    "## Best Simple RNN"
   ]
  },
  {
   "cell_type": "markdown",
   "id": "d7ab54c0",
   "metadata": {},
   "source": [
    "**Now we try variations of the first model by changing max_features and padding length.**"
   ]
  },
  {
   "cell_type": "code",
   "execution_count": 394,
   "id": "b2a0606a",
   "metadata": {},
   "outputs": [],
   "source": [
    "max_features = 20000\n",
    "encoder = tf.keras.layers.TextVectorization(max_tokens = max_features)"
   ]
  },
  {
   "cell_type": "code",
   "execution_count": 395,
   "id": "446b3252",
   "metadata": {},
   "outputs": [],
   "source": [
    "encoder.adapt(x_train)"
   ]
  },
  {
   "cell_type": "code",
   "execution_count": 396,
   "id": "36863d9d",
   "metadata": {},
   "outputs": [],
   "source": [
    "x_train = encoder(list_ds_train_x)"
   ]
  },
  {
   "cell_type": "code",
   "execution_count": 397,
   "id": "6331520c",
   "metadata": {},
   "outputs": [],
   "source": [
    "x_train_pad = np.array(x_train)[:,:400]"
   ]
  },
  {
   "cell_type": "code",
   "execution_count": 398,
   "id": "6fb80256",
   "metadata": {},
   "outputs": [],
   "source": [
    "x_test = encoder(list_ds_test_x)"
   ]
  },
  {
   "cell_type": "code",
   "execution_count": 399,
   "id": "5d25d265",
   "metadata": {},
   "outputs": [],
   "source": [
    "x_test_pad = np.array(x_test)[:,:400]"
   ]
  },
  {
   "cell_type": "code",
   "execution_count": 400,
   "id": "00b64b4e",
   "metadata": {},
   "outputs": [
    {
     "data": {
      "text/plain": [
       "<tf.Tensor: shape=(56000, 991), dtype=int64, numpy=\n",
       "array([[ 376,   30,    5, ...,    0,    0,    0],\n",
       "       [ 700, 3132,  136, ...,    0,    0,    0],\n",
       "       [  15,  495, 4948, ...,    0,    0,    0],\n",
       "       ...,\n",
       "       [ 334,   54, 9058, ...,    0,    0,    0],\n",
       "       [  15,   99,    5, ...,    0,    0,    0],\n",
       "       [  14,  341,   89, ...,    0,    0,    0]], dtype=int64)>"
      ]
     },
     "execution_count": 400,
     "metadata": {},
     "output_type": "execute_result"
    }
   ],
   "source": [
    "x_train"
   ]
  },
  {
   "cell_type": "markdown",
   "id": "de01e82c",
   "metadata": {},
   "source": [
    "## RNN Model"
   ]
  },
  {
   "cell_type": "code",
   "execution_count": 401,
   "id": "d62e4a06",
   "metadata": {},
   "outputs": [],
   "source": [
    "## Let's build a RNN\n",
    "\n",
    "rnn_hidden_dim = 5\n",
    "word_embedding_dim = 64\n",
    "model_rnn = Sequential()\n",
    "model_rnn.add(Embedding(max_features, word_embedding_dim))  #This layer takes each integer in the sequence and embeds it in a 64-dimensional vector\n",
    "model_rnn.add(SimpleRNN(rnn_hidden_dim,\n",
    "                    kernel_initializer=initializers.RandomNormal(stddev=0.001),\n",
    "                    recurrent_initializer=initializers.Identity(gain=1.0),\n",
    "                    activation='relu',\n",
    "                    input_shape=x_train.shape[1:]))\n",
    "\n",
    "model_rnn.add(Dense(1, activation='sigmoid'))"
   ]
  },
  {
   "cell_type": "code",
   "execution_count": 402,
   "id": "945185c7",
   "metadata": {},
   "outputs": [
    {
     "name": "stdout",
     "output_type": "stream",
     "text": [
      "Model: \"sequential_13\"\n",
      "_________________________________________________________________\n",
      " Layer (type)                Output Shape              Param #   \n",
      "=================================================================\n",
      " embedding_13 (Embedding)    (None, None, 64)          1280000   \n",
      "                                                                 \n",
      " simple_rnn_6 (SimpleRNN)    (None, 5)                 350       \n",
      "                                                                 \n",
      " dense_12 (Dense)            (None, 1)                 6         \n",
      "                                                                 \n",
      "=================================================================\n",
      "Total params: 1,280,356\n",
      "Trainable params: 1,280,356\n",
      "Non-trainable params: 0\n",
      "_________________________________________________________________\n"
     ]
    }
   ],
   "source": [
    "## Note that most of the parameters come from the embedding layer\n",
    "model_rnn.summary()"
   ]
  },
  {
   "cell_type": "code",
   "execution_count": 403,
   "id": "12a00604",
   "metadata": {},
   "outputs": [],
   "source": [
    "rmsprop = keras.optimizers.RMSprop(lr = .0001)\n",
    "\n",
    "model_rnn.compile(loss='binary_crossentropy',\n",
    "              optimizer=rmsprop,\n",
    "              metrics=['accuracy'])"
   ]
  },
  {
   "cell_type": "code",
   "execution_count": 404,
   "id": "a9432043",
   "metadata": {},
   "outputs": [],
   "source": [
    "x_train_pad = np.asarray(x_train_pad).astype('float32')"
   ]
  },
  {
   "cell_type": "code",
   "execution_count": 405,
   "id": "ca5e26cc",
   "metadata": {},
   "outputs": [],
   "source": [
    "x_test_pad = np.asarray(x_test_pad).astype('float32')"
   ]
  },
  {
   "cell_type": "code",
   "execution_count": 406,
   "id": "57f93c35",
   "metadata": {},
   "outputs": [],
   "source": [
    "y_train = np.asarray(y_train).astype('float32')"
   ]
  },
  {
   "cell_type": "code",
   "execution_count": 407,
   "id": "d6f37b03",
   "metadata": {},
   "outputs": [],
   "source": [
    "y_test = np.asarray(y_test).astype('float32')"
   ]
  },
  {
   "cell_type": "code",
   "execution_count": 408,
   "id": "34c9ec4e",
   "metadata": {
    "collapsed": true
   },
   "outputs": [
    {
     "name": "stdout",
     "output_type": "stream",
     "text": [
      "Epoch 1/7\n",
      "560/560 [==============================] - 44s 78ms/step - loss: 0.5326 - accuracy: 0.7225 - val_loss: 0.3668 - val_accuracy: 0.8411\n",
      "Epoch 2/7\n",
      "560/560 [==============================] - 47s 84ms/step - loss: 0.3078 - accuracy: 0.8720 - val_loss: 0.2385 - val_accuracy: 0.9030\n",
      "Epoch 3/7\n",
      "560/560 [==============================] - 50s 89ms/step - loss: 0.2339 - accuracy: 0.9048 - val_loss: 0.2312 - val_accuracy: 0.9018\n",
      "Epoch 4/7\n",
      "560/560 [==============================] - 55s 99ms/step - loss: 0.2063 - accuracy: 0.9172 - val_loss: 0.2174 - val_accuracy: 0.9116\n",
      "Epoch 5/7\n",
      "560/560 [==============================] - 51s 92ms/step - loss: 0.1903 - accuracy: 0.9244 - val_loss: 0.2285 - val_accuracy: 0.9093\n",
      "Epoch 6/7\n",
      "560/560 [==============================] - 48s 85ms/step - loss: 0.1792 - accuracy: 0.9303 - val_loss: 0.2104 - val_accuracy: 0.9186\n",
      "Epoch 7/7\n",
      "560/560 [==============================] - 48s 86ms/step - loss: 0.1701 - accuracy: 0.9342 - val_loss: 0.2501 - val_accuracy: 0.9078\n"
     ]
    },
    {
     "data": {
      "text/plain": [
       "<keras.callbacks.History at 0x19d448487c0>"
      ]
     },
     "execution_count": 408,
     "metadata": {},
     "output_type": "execute_result"
    }
   ],
   "source": [
    "batch_size = 100\n",
    "model_rnn.fit(x_train_pad, y_train,\n",
    "          batch_size=batch_size,\n",
    "          epochs=7,\n",
    "          validation_data=(x_test_pad, y_test))"
   ]
  },
  {
   "cell_type": "markdown",
   "id": "f4f4904f",
   "metadata": {},
   "source": [
    "## Best Simple RNN"
   ]
  },
  {
   "cell_type": "markdown",
   "id": "73ccfb24",
   "metadata": {},
   "source": [
    "**Once again we try variations of the first model by changing max_features and padding length.**"
   ]
  },
  {
   "cell_type": "code",
   "execution_count": 409,
   "id": "f32891f6",
   "metadata": {},
   "outputs": [],
   "source": [
    "max_features = 5000\n",
    "encoder = tf.keras.layers.TextVectorization(max_tokens = max_features)"
   ]
  },
  {
   "cell_type": "code",
   "execution_count": 426,
   "id": "aee3919e",
   "metadata": {},
   "outputs": [],
   "source": [
    "encoder.adapt(x_train)"
   ]
  },
  {
   "cell_type": "code",
   "execution_count": 427,
   "id": "0a1a0092",
   "metadata": {},
   "outputs": [],
   "source": [
    "x_train = encoder(list_ds_train_x)"
   ]
  },
  {
   "cell_type": "code",
   "execution_count": 429,
   "id": "fd1c43a6",
   "metadata": {},
   "outputs": [],
   "source": [
    "x_train_pad = np.array(x_train)[:,:200]"
   ]
  },
  {
   "cell_type": "code",
   "execution_count": 430,
   "id": "4caa5f4b",
   "metadata": {},
   "outputs": [],
   "source": [
    "x_test = encoder(list_ds_test_x)"
   ]
  },
  {
   "cell_type": "code",
   "execution_count": 431,
   "id": "23ea5daa",
   "metadata": {},
   "outputs": [],
   "source": [
    "x_test_pad = np.array(x_test)[:,:200]"
   ]
  },
  {
   "cell_type": "code",
   "execution_count": 432,
   "id": "c40bac99",
   "metadata": {},
   "outputs": [
    {
     "data": {
      "text/plain": [
       "<tf.Tensor: shape=(56000, 991), dtype=int64, numpy=\n",
       "array([[ 376,   30,    5, ...,    0,    0,    0],\n",
       "       [ 700, 3132,  136, ...,    0,    0,    0],\n",
       "       [  15,  495, 4948, ...,    0,    0,    0],\n",
       "       ...,\n",
       "       [ 334,   54,    1, ...,    0,    0,    0],\n",
       "       [  15,   99,    5, ...,    0,    0,    0],\n",
       "       [  14,  341,   89, ...,    0,    0,    0]], dtype=int64)>"
      ]
     },
     "execution_count": 432,
     "metadata": {},
     "output_type": "execute_result"
    }
   ],
   "source": [
    "x_train"
   ]
  },
  {
   "cell_type": "markdown",
   "id": "62311759",
   "metadata": {},
   "source": [
    "## RNN Model"
   ]
  },
  {
   "cell_type": "code",
   "execution_count": 433,
   "id": "521f5bd0",
   "metadata": {},
   "outputs": [],
   "source": [
    "## Let's build a RNN\n",
    "\n",
    "rnn_hidden_dim = 5\n",
    "word_embedding_dim = 64\n",
    "model_rnn = Sequential()\n",
    "model_rnn.add(Embedding(max_features, word_embedding_dim))  \n",
    "model_rnn.add(SimpleRNN(rnn_hidden_dim,\n",
    "                    kernel_initializer=initializers.RandomNormal(stddev=0.001),\n",
    "                    recurrent_initializer=initializers.Identity(gain=1.0),\n",
    "                    activation='relu',\n",
    "                    input_shape=x_train.shape[1:]))\n",
    "\n",
    "model_rnn.add(Dense(1, activation='sigmoid'))"
   ]
  },
  {
   "cell_type": "code",
   "execution_count": 434,
   "id": "a802beb9",
   "metadata": {},
   "outputs": [
    {
     "name": "stdout",
     "output_type": "stream",
     "text": [
      "Model: \"sequential_14\"\n",
      "_________________________________________________________________\n",
      " Layer (type)                Output Shape              Param #   \n",
      "=================================================================\n",
      " embedding_14 (Embedding)    (None, None, 64)          320000    \n",
      "                                                                 \n",
      " simple_rnn_7 (SimpleRNN)    (None, 5)                 350       \n",
      "                                                                 \n",
      " dense_13 (Dense)            (None, 1)                 6         \n",
      "                                                                 \n",
      "=================================================================\n",
      "Total params: 320,356\n",
      "Trainable params: 320,356\n",
      "Non-trainable params: 0\n",
      "_________________________________________________________________\n"
     ]
    }
   ],
   "source": [
    "## Note that most of the parameters come from the embedding layer\n",
    "model_rnn.summary()"
   ]
  },
  {
   "cell_type": "code",
   "execution_count": 435,
   "id": "236b2a87",
   "metadata": {},
   "outputs": [],
   "source": [
    "rmsprop = keras.optimizers.RMSprop(lr = .0001)\n",
    "\n",
    "model_rnn.compile(loss='binary_crossentropy',\n",
    "              optimizer=rmsprop,\n",
    "              metrics=['accuracy'])"
   ]
  },
  {
   "cell_type": "code",
   "execution_count": 436,
   "id": "712c1209",
   "metadata": {},
   "outputs": [],
   "source": [
    "x_train_pad = np.asarray(x_train_pad).astype('float32')"
   ]
  },
  {
   "cell_type": "code",
   "execution_count": 437,
   "id": "e5ddc1b3",
   "metadata": {},
   "outputs": [],
   "source": [
    "x_test_pad = np.asarray(x_test_pad).astype('float32')"
   ]
  },
  {
   "cell_type": "code",
   "execution_count": 438,
   "id": "6b4e8527",
   "metadata": {},
   "outputs": [],
   "source": [
    "y_train = np.asarray(y_train).astype('float32')"
   ]
  },
  {
   "cell_type": "code",
   "execution_count": 439,
   "id": "47a642c9",
   "metadata": {},
   "outputs": [],
   "source": [
    "y_test = np.asarray(y_test).astype('float32')"
   ]
  },
  {
   "cell_type": "code",
   "execution_count": 440,
   "id": "380696fe",
   "metadata": {},
   "outputs": [
    {
     "name": "stdout",
     "output_type": "stream",
     "text": [
      "Epoch 1/7\n",
      "560/560 [==============================] - 22s 39ms/step - loss: 0.4746 - accuracy: 0.7607 - val_loss: 0.3187 - val_accuracy: 0.8631\n",
      "Epoch 2/7\n",
      "560/560 [==============================] - 21s 38ms/step - loss: 0.3035 - accuracy: 0.8699 - val_loss: 0.2643 - val_accuracy: 0.8873\n",
      "Epoch 3/7\n",
      "560/560 [==============================] - 22s 40ms/step - loss: 0.2570 - accuracy: 0.8945 - val_loss: 0.2746 - val_accuracy: 0.8854\n",
      "Epoch 4/7\n",
      "560/560 [==============================] - 26s 46ms/step - loss: 0.2369 - accuracy: 0.9050 - val_loss: 0.2435 - val_accuracy: 0.8994\n",
      "Epoch 5/7\n",
      "560/560 [==============================] - 24s 43ms/step - loss: 0.2251 - accuracy: 0.9101 - val_loss: 0.2357 - val_accuracy: 0.9042\n",
      "Epoch 6/7\n",
      "560/560 [==============================] - 25s 45ms/step - loss: 0.2169 - accuracy: 0.9139 - val_loss: 0.2288 - val_accuracy: 0.9091\n",
      "Epoch 7/7\n",
      "560/560 [==============================] - 24s 42ms/step - loss: 0.2099 - accuracy: 0.9179 - val_loss: 0.2269 - val_accuracy: 0.9074\n"
     ]
    },
    {
     "data": {
      "text/plain": [
       "<keras.callbacks.History at 0x19bcd0e5850>"
      ]
     },
     "execution_count": 440,
     "metadata": {},
     "output_type": "execute_result"
    }
   ],
   "source": [
    "batch_size = 100\n",
    "model_rnn.fit(x_train_pad, y_train,\n",
    "          batch_size=batch_size,\n",
    "          epochs=7,\n",
    "          validation_data=(x_test_pad, y_test))"
   ]
  },
  {
   "cell_type": "code",
   "execution_count": null,
   "id": "afdb828f",
   "metadata": {},
   "outputs": [],
   "source": []
  }
 ],
 "metadata": {
  "kernelspec": {
   "display_name": "Python 3 (ipykernel)",
   "language": "python",
   "name": "python3"
  },
  "language_info": {
   "codemirror_mode": {
    "name": "ipython",
    "version": 3
   },
   "file_extension": ".py",
   "mimetype": "text/x-python",
   "name": "python",
   "nbconvert_exporter": "python",
   "pygments_lexer": "ipython3",
   "version": "3.9.7"
  }
 },
 "nbformat": 4,
 "nbformat_minor": 5
}
